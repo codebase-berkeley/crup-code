{
  "cells": [
    {
      "cell_type": "markdown",
      "metadata": {
        "id": "GrdM4iN6aP1u"
      },
      "source": [
        "## 🐍 Intro to Python HW 🐍"
      ]
    },
    {
      "cell_type": "markdown",
      "metadata": {},
      "source": [
        "#### To save your changes and use this notebook, choose File -> Save a copy in Drive."
      ]
    },
    {
      "cell_type": "markdown",
      "metadata": {
        "id": "O40AIb_Lai0z"
      },
      "source": [
        "### The following code is supposed to return the first 10 even numbers, but it contains syntax errors. Fix them!\n"
      ]
    },
    {
      "cell_type": "code",
      "execution_count": null,
      "metadata": {
        "id": "4xRlJCPSaN9V"
      },
      "outputs": [],
      "source": [
        "def first_10_evens(n=10, result=[]):\n",
        "    for i in range(1, n+1):\n",
        "        result += [i*2]\n",
        "    return result[:-1]"
      ]
    },
    {
      "cell_type": "markdown",
      "metadata": {
        "id": "hZH2AirHjgik"
      },
      "source": [
        "### Tests"
      ]
    },
    {
      "cell_type": "code",
      "execution_count": null,
      "metadata": {
        "id": "AS36jznSjcoP"
      },
      "outputs": [],
      "source": [
        "assert first_10_evens() == [2,4,6,8,10,12,14,16,18,20]\n",
        "assert first_10_evens() == [2,4,6,8,10,12,14,16,18,20]\n",
        "print(\"✅ first_10_evens passed!\")"
      ]
    },
    {
      "cell_type": "markdown",
      "metadata": {
        "id": "O63IXP-TkRhc"
      },
      "source": [
        "### The following code should reverse a string. Find all bugs in the code and fix them."
      ]
    },
    {
      "cell_type": "code",
      "execution_count": null,
      "metadata": {
        "id": "MR3nrMfLjiB-"
      },
      "outputs": [],
      "source": [
        "def reverse_string(s):\n",
        "    out = \"\"\n",
        "    for i in range(len(s)):\n",
        "        out += s[i]\n",
        "    return s"
      ]
    },
    {
      "cell_type": "markdown",
      "metadata": {
        "id": "DFgi7wJnkhf1"
      },
      "source": [
        "### Tests"
      ]
    },
    {
      "cell_type": "code",
      "execution_count": null,
      "metadata": {
        "id": "4UavWUcSkgnj"
      },
      "outputs": [],
      "source": [
        "assert reverse_string(\"hello\") == \"olleh\"\n",
        "assert reverse_string(\"a\") == \"a\"\n",
        "assert reverse_string(\"\") == \"\"\n",
        "print(\"✅ reverse_string passed!\")"
      ]
    },
    {
      "cell_type": "markdown",
      "metadata": {
        "id": "vrYcGylvks0j"
      },
      "source": [
        "### The following code should return the sum of the numbers in a list. Find all bugs in the code and fix them."
      ]
    },
    {
      "cell_type": "code",
      "execution_count": null,
      "metadata": {
        "id": "d3P0ztaVk2D6"
      },
      "outputs": [],
      "source": [
        "def list_sum(lst):\n",
        "    if lst == 0:\n",
        "        return []\n",
        "    return lst[0] + list_sum(lst[1:]) + 0"
      ]
    },
    {
      "cell_type": "markdown",
      "metadata": {
        "id": "jZ3uGTSFlDHG"
      },
      "source": [
        "### Tests"
      ]
    },
    {
      "cell_type": "code",
      "execution_count": null,
      "metadata": {
        "id": "YHEEIC9tk8LL"
      },
      "outputs": [],
      "source": [
        "assert list_sum([1,2,3,4]) == 10\n",
        "assert list_sum([]) == 0\n",
        "print(\"✅ list_sum passed!\")"
      ]
    },
    {
      "cell_type": "markdown",
      "metadata": {
        "id": "Y4pSrk77l68y"
      },
      "source": [
        "### Fill out the following function that determines if a string is a palindrome."
      ]
    },
    {
      "cell_type": "code",
      "execution_count": null,
      "metadata": {
        "id": "RoKtdhe6lCca"
      },
      "outputs": [],
      "source": [
        "def is_palindrome(s):\n",
        "  return False"
      ]
    },
    {
      "cell_type": "markdown",
      "metadata": {
        "id": "GEm8XrR5mDsr"
      },
      "source": [
        "### Tests"
      ]
    },
    {
      "cell_type": "code",
      "execution_count": null,
      "metadata": {
        "id": "LovaNkFmmBNR"
      },
      "outputs": [],
      "source": [
        "assert is_palindrome(\"racecar\")\n",
        "assert is_palindrome(\"a\")\n",
        "assert not is_palindrome(\"hello\")\n",
        "print(\"✅ is_palindrome passed!\")"
      ]
    },
    {
      "cell_type": "markdown",
      "metadata": {
        "id": "RhFazUNFosD2"
      },
      "source": [
        "### Implement the Bank account class. Your class should:\n",
        "\n",
        "- Store the account balance (default: 0).\n",
        "\n",
        "- Have a method deposit(amount) that increases the balance.\n",
        "\n",
        "- Have a method withdraw(amount) that decreases the balance if there are sufficient funds, and returns the withdrawn amount. If there aren’t enough funds, return \"Insufficient funds\".\n",
        "\n",
        "### Fill in the methods below where you see `# TODO`. Run the cell to test your implementation."
      ]
    },
    {
      "cell_type": "code",
      "execution_count": null,
      "metadata": {
        "id": "tLFNvm69mHJO"
      },
      "outputs": [],
      "source": [
        "class BankAccount:\n",
        "    def __init__(self, balance=0):\n",
        "        \"\"\"Initialize a new BankAccount with a starting balance.\"\"\"\n",
        "        self.balance = balance\n",
        "\n",
        "    def deposit(self, amount):\n",
        "        \"\"\"Increase balance by amount.\"\"\"\n",
        "        # TODO: implement this method\n",
        "        pass\n",
        "\n",
        "    def withdraw(self, amount):\n",
        "        \"\"\"\n",
        "        Decrease balance by amount if possible.\n",
        "        Return the withdrawn amount if successful,\n",
        "        or \"Insufficient funds\" otherwise.\n",
        "        \"\"\"\n",
        "        # TODO: implement this method\n",
        "        pass"
      ]
    },
    {
      "cell_type": "markdown",
      "metadata": {
        "id": "Soh-3luHtLjc"
      },
      "source": [
        "### Tests"
      ]
    },
    {
      "cell_type": "code",
      "execution_count": null,
      "metadata": {
        "id": "gsFFIUVDozAF"
      },
      "outputs": [],
      "source": [
        "acct = BankAccount(100)\n",
        "acct.deposit(50)\n",
        "assert acct.balance == 150\n",
        "assert acct.withdraw(70) == 70\n",
        "assert acct.balance == 80\n",
        "assert acct.withdraw(200) == \"Insufficient funds\"\n",
        "print(\"✅ BankAccount passed!\")"
      ]
    },
    {
      "cell_type": "markdown",
      "metadata": {
        "id": "_hW4xVVGpxlm"
      },
      "source": [
        "### Implement a Tree Abstract Data Type (ADT) in Python and write recursive functions that operate on trees.\n",
        "\n",
        "As a reminder, a tree is represented as a list, where the first element is the label and the rest are branches.\n",
        "\n",
        "Example: `t = tree(1, [tree(2), tree(3, [tree(4)])])`\n",
        "\n",
        "### Complete the following functions where you see `# TODO`."
      ]
    },
    {
      "cell_type": "code",
      "execution_count": null,
      "metadata": {
        "id": "sXzsAcp-p6xI"
      },
      "outputs": [],
      "source": [
        "def tree(label, branches=[]):\n",
        "    \"\"\"Construct a tree with a given label and list of branches.\"\"\"\n",
        "    # TODO: ensure each branch is a valid tree\n",
        "    for b in branches:\n",
        "        assert isinstance(b, list), \"branches must be trees\"\n",
        "    return [label] + list(branches)\n",
        "\n",
        "def label(t):\n",
        "    \"\"\"Return the label of tree t.\"\"\"\n",
        "    # TODO\n",
        "    pass\n",
        "\n",
        "def branches(t):\n",
        "    \"\"\"Return the list of branches of tree t.\"\"\"\n",
        "    # TODO\n",
        "    pass\n",
        "\n",
        "def is_leaf(t):\n",
        "    \"\"\"Return True if tree t has no branches.\"\"\"\n",
        "    # TODO\n",
        "    pass"
      ]
    },
    {
      "cell_type": "markdown",
      "metadata": {
        "id": "39QgorsKtNMY"
      },
      "source": [
        "### Tests"
      ]
    },
    {
      "cell_type": "code",
      "execution_count": null,
      "metadata": {
        "id": "sP6z2fDWqJQh"
      },
      "outputs": [],
      "source": [
        "# Tests\n",
        "t = tree(1, [tree(2), tree(3, [tree(4)])])\n",
        "assert label(t) == 1\n",
        "assert len(branches(t)) == 2\n",
        "assert is_leaf(tree(5))\n",
        "print(\"✅ tree constructor & selectors passed!\")"
      ]
    },
    {
      "cell_type": "markdown",
      "metadata": {
        "id": "VtSL0p9tqOgK"
      },
      "source": [
        "### Implement the following function to count the number of leaves in a tree recursively."
      ]
    },
    {
      "cell_type": "code",
      "execution_count": null,
      "metadata": {
        "id": "iV3wEel-qK4q"
      },
      "outputs": [],
      "source": [
        "def count_leaves(t):\n",
        "    \"\"\"\n",
        "    Return the number of leaves in tree t.\n",
        "    A leaf is a node with no branches.\n",
        "    \"\"\"\n",
        "    # TODO: use recursion + is_leaf\n",
        "    pass"
      ]
    },
    {
      "cell_type": "markdown",
      "metadata": {
        "id": "I8VxHwJ7tPDo"
      },
      "source": [
        "### Tests"
      ]
    },
    {
      "cell_type": "code",
      "execution_count": null,
      "metadata": {
        "id": "3NXSi5fMqUQR"
      },
      "outputs": [],
      "source": [
        "#Tests\n",
        "t = tree(1, [tree(2), tree(3, [tree(4), tree(5)])])\n",
        "assert count_leaves(t) == 3\n",
        "assert count_leaves(tree(42)) == 1\n",
        "print(\"✅ count_leaves passed!\")"
      ]
    },
    {
      "cell_type": "markdown",
      "metadata": {},
      "source": [
        "## Contributors\n",
        "- Anika Sikka\n",
        "- Patrick Mendoza"
      ]
    }
  ],
  "metadata": {
    "colab": {
      "provenance": []
    },
    "kernelspec": {
      "display_name": "Python 3",
      "name": "python3"
    },
    "language_info": {
      "name": "python"
    }
  },
  "nbformat": 4,
  "nbformat_minor": 0
}
