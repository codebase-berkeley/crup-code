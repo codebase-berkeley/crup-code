{
 "cells": [
  {
   "cell_type": "markdown",
   "id": "f5439ec2",
   "metadata": {},
   "source": [
    "## Introduction to NumPy"
   ]
  },
  {
   "cell_type": "markdown",
   "id": "69293cd4",
   "metadata": {},
   "source": [
    "#### To save your changes and use this notebook, choose File -> Save a copy in Drive."
   ]
  },
  {
   "cell_type": "code",
   "execution_count": null,
   "id": "0f119f84",
   "metadata": {},
   "outputs": [],
   "source": [
    "import numpy as np"
   ]
  }
 ],
 "metadata": {
  "kernelspec": {
   "display_name": "base",
   "language": "python",
   "name": "python3"
  },
  "language_info": {
   "name": "python",
   "version": "3.13.5"
  }
 },
 "nbformat": 4,
 "nbformat_minor": 5
}
