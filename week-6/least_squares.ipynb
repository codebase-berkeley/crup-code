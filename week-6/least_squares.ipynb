{
 "cells": [
  {
   "cell_type": "markdown",
   "id": "aeba1310",
   "metadata": {},
   "source": [
    "#### To save your changes and use this notebook, choose File -> Save a copy in Drive."
   ]
  }
 ],
 "metadata": {
  "language_info": {
   "name": "python"
  }
 },
 "nbformat": 4,
 "nbformat_minor": 5
}
