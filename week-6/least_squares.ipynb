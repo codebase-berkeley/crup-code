{
 "cells": [
  {
   "cell_type": "markdown",
   "id": "290fb611",
   "metadata": {},
   "source": [
    "## Coding Least Squares"
   ]
  },
  {
   "cell_type": "markdown",
   "id": "aeba1310",
   "metadata": {},
   "source": [
    "#### To save your changes and use this notebook, choose File -> Save a copy in Drive."
   ]
  },
  {
   "cell_type": "code",
   "execution_count": 2,
   "id": "e65f8b62",
   "metadata": {},
   "outputs": [],
   "source": [
    "import numpy as np"
   ]
  }
 ],
 "metadata": {
  "kernelspec": {
   "display_name": "base",
   "language": "python",
   "name": "python3"
  },
  "language_info": {
   "codemirror_mode": {
    "name": "ipython",
    "version": 3
   },
   "file_extension": ".py",
   "mimetype": "text/x-python",
   "name": "python",
   "nbconvert_exporter": "python",
   "pygments_lexer": "ipython3",
   "version": "3.13.5"
  }
 },
 "nbformat": 4,
 "nbformat_minor": 5
}
